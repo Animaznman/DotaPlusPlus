{
 "cells": [
  {
   "cell_type": "markdown",
   "metadata": {},
   "source": [
    "People messaged at Valve:\n",
    "- Chris Carollo\n",
    "- John McDonald\n",
    "- Kristian Miller\n",
    "- Mike Ambinder"
   ]
  },
  {
   "cell_type": "code",
   "execution_count": 1,
   "metadata": {},
   "outputs": [],
   "source": [
    "import requests\n",
    "import json\n",
    "import pandas as pd\n",
    "import numpy as np\n"
   ]
  },
  {
   "cell_type": "markdown",
   "metadata": {},
   "source": [
    "# Pickles here"
   ]
  },
  {
   "cell_type": "code",
   "execution_count": null,
   "metadata": {},
   "outputs": [],
   "source": [
    "#Time series is used for predicting a future value based on current values. Also, variables must be continuous."
   ]
  },
  {
   "cell_type": "code",
   "execution_count": 2,
   "metadata": {},
   "outputs": [],
   "source": [
    "# matches.to_pickle('matches.pkl')\n",
    "matches = pd.read_pickle('matches.pkl')\n",
    "# results = requests.get('https://api.opendota.com/api/matches/4778913838/performances')\n",
    "# jsonified = results.json()"
   ]
  },
  {
   "cell_type": "code",
   "execution_count": 3,
   "metadata": {},
   "outputs": [
    {
     "data": {
      "text/html": [
       "<div>\n",
       "<style scoped>\n",
       "    .dataframe tbody tr th:only-of-type {\n",
       "        vertical-align: middle;\n",
       "    }\n",
       "\n",
       "    .dataframe tbody tr th {\n",
       "        vertical-align: top;\n",
       "    }\n",
       "\n",
       "    .dataframe thead th {\n",
       "        text-align: right;\n",
       "    }\n",
       "</style>\n",
       "<table border=\"1\" class=\"dataframe\">\n",
       "  <thead>\n",
       "    <tr style=\"text-align: right;\">\n",
       "      <th></th>\n",
       "      <th>match_id</th>\n",
       "      <th>minute</th>\n",
       "      <th>dire_Anti-Mage</th>\n",
       "      <th>dire_Axe</th>\n",
       "      <th>dire_Bane</th>\n",
       "      <th>dire_Bloodseeker</th>\n",
       "      <th>dire_Crystal Maiden</th>\n",
       "      <th>dire_Drow Ranger</th>\n",
       "      <th>dire_Earthshaker</th>\n",
       "      <th>radiant_Abaddon</th>\n",
       "      <th>...</th>\n",
       "      <th>9mithril_hammer</th>\n",
       "      <th>9satanic</th>\n",
       "      <th>9staff_of_wizardry</th>\n",
       "      <th>9blades_of_attack</th>\n",
       "      <th>9monkey_king_bar</th>\n",
       "      <th>9platemail</th>\n",
       "      <th>9pipe</th>\n",
       "      <th>9dagon_2</th>\n",
       "      <th>9boots</th>\n",
       "      <th>radiant_win</th>\n",
       "    </tr>\n",
       "  </thead>\n",
       "  <tbody>\n",
       "    <tr>\n",
       "      <th>49529</th>\n",
       "      <td>4889360849</td>\n",
       "      <td>18</td>\n",
       "      <td>0</td>\n",
       "      <td>0</td>\n",
       "      <td>0</td>\n",
       "      <td>0</td>\n",
       "      <td>0</td>\n",
       "      <td>0</td>\n",
       "      <td>0</td>\n",
       "      <td>0</td>\n",
       "      <td>...</td>\n",
       "      <td>2</td>\n",
       "      <td>0</td>\n",
       "      <td>0</td>\n",
       "      <td>1</td>\n",
       "      <td>0</td>\n",
       "      <td>0</td>\n",
       "      <td>0</td>\n",
       "      <td>0</td>\n",
       "      <td>1</td>\n",
       "      <td>1</td>\n",
       "    </tr>\n",
       "    <tr>\n",
       "      <th>59193</th>\n",
       "      <td>4899998031</td>\n",
       "      <td>46</td>\n",
       "      <td>0</td>\n",
       "      <td>0</td>\n",
       "      <td>0</td>\n",
       "      <td>0</td>\n",
       "      <td>0</td>\n",
       "      <td>0</td>\n",
       "      <td>0</td>\n",
       "      <td>0</td>\n",
       "      <td>...</td>\n",
       "      <td>2</td>\n",
       "      <td>0</td>\n",
       "      <td>1</td>\n",
       "      <td>1</td>\n",
       "      <td>0</td>\n",
       "      <td>1</td>\n",
       "      <td>0</td>\n",
       "      <td>0</td>\n",
       "      <td>1</td>\n",
       "      <td>0</td>\n",
       "    </tr>\n",
       "    <tr>\n",
       "      <th>82888</th>\n",
       "      <td>4931035786</td>\n",
       "      <td>52</td>\n",
       "      <td>0</td>\n",
       "      <td>0</td>\n",
       "      <td>0</td>\n",
       "      <td>0</td>\n",
       "      <td>0</td>\n",
       "      <td>0</td>\n",
       "      <td>0</td>\n",
       "      <td>0</td>\n",
       "      <td>...</td>\n",
       "      <td>0</td>\n",
       "      <td>0</td>\n",
       "      <td>1</td>\n",
       "      <td>0</td>\n",
       "      <td>0</td>\n",
       "      <td>0</td>\n",
       "      <td>0</td>\n",
       "      <td>0</td>\n",
       "      <td>1</td>\n",
       "      <td>1</td>\n",
       "    </tr>\n",
       "    <tr>\n",
       "      <th>14758</th>\n",
       "      <td>4810666092</td>\n",
       "      <td>35</td>\n",
       "      <td>0</td>\n",
       "      <td>0</td>\n",
       "      <td>0</td>\n",
       "      <td>0</td>\n",
       "      <td>0</td>\n",
       "      <td>0</td>\n",
       "      <td>0</td>\n",
       "      <td>0</td>\n",
       "      <td>...</td>\n",
       "      <td>0</td>\n",
       "      <td>0</td>\n",
       "      <td>0</td>\n",
       "      <td>0</td>\n",
       "      <td>0</td>\n",
       "      <td>0</td>\n",
       "      <td>0</td>\n",
       "      <td>0</td>\n",
       "      <td>1</td>\n",
       "      <td>0</td>\n",
       "    </tr>\n",
       "    <tr>\n",
       "      <th>124897</th>\n",
       "      <td>4984544598</td>\n",
       "      <td>40</td>\n",
       "      <td>0</td>\n",
       "      <td>0</td>\n",
       "      <td>0</td>\n",
       "      <td>0</td>\n",
       "      <td>0</td>\n",
       "      <td>0</td>\n",
       "      <td>0</td>\n",
       "      <td>0</td>\n",
       "      <td>...</td>\n",
       "      <td>0</td>\n",
       "      <td>0</td>\n",
       "      <td>1</td>\n",
       "      <td>0</td>\n",
       "      <td>0</td>\n",
       "      <td>0</td>\n",
       "      <td>0</td>\n",
       "      <td>0</td>\n",
       "      <td>1</td>\n",
       "      <td>1</td>\n",
       "    </tr>\n",
       "  </tbody>\n",
       "</table>\n",
       "<p>5 rows × 1955 columns</p>\n",
       "</div>"
      ],
      "text/plain": [
       "          match_id  minute  dire_Anti-Mage  dire_Axe  dire_Bane  \\\n",
       "49529   4889360849      18               0         0          0   \n",
       "59193   4899998031      46               0         0          0   \n",
       "82888   4931035786      52               0         0          0   \n",
       "14758   4810666092      35               0         0          0   \n",
       "124897  4984544598      40               0         0          0   \n",
       "\n",
       "        dire_Bloodseeker  dire_Crystal Maiden  dire_Drow Ranger  \\\n",
       "49529                  0                    0                 0   \n",
       "59193                  0                    0                 0   \n",
       "82888                  0                    0                 0   \n",
       "14758                  0                    0                 0   \n",
       "124897                 0                    0                 0   \n",
       "\n",
       "        dire_Earthshaker  radiant_Abaddon  ...  9mithril_hammer  9satanic  \\\n",
       "49529                  0                0  ...                2         0   \n",
       "59193                  0                0  ...                2         0   \n",
       "82888                  0                0  ...                0         0   \n",
       "14758                  0                0  ...                0         0   \n",
       "124897                 0                0  ...                0         0   \n",
       "\n",
       "        9staff_of_wizardry  9blades_of_attack  9monkey_king_bar  9platemail  \\\n",
       "49529                    0                  1                 0           0   \n",
       "59193                    1                  1                 0           1   \n",
       "82888                    1                  0                 0           0   \n",
       "14758                    0                  0                 0           0   \n",
       "124897                   1                  0                 0           0   \n",
       "\n",
       "        9pipe  9dagon_2  9boots  radiant_win  \n",
       "49529       0         0       1            1  \n",
       "59193       0         0       1            0  \n",
       "82888       0         0       1            1  \n",
       "14758       0         0       1            0  \n",
       "124897      0         0       1            1  \n",
       "\n",
       "[5 rows x 1955 columns]"
      ]
     },
     "execution_count": 3,
     "metadata": {},
     "output_type": "execute_result"
    }
   ],
   "source": [
    "matches.sample(5)"
   ]
  },
  {
   "cell_type": "markdown",
   "metadata": {},
   "source": [
    "# Getting the rows to be team-centric\n",
    "|  Column          | Description                                                                                                                                 |   |   |   |\n",
    "|------------------|---------------------------------------------------------------------------------------------------------------------------------------------|---|---|---|\n",
    "| match_id         | __Integer Value__. Match ID for the given match. Also referenced in downloadable replays.                                                       |   |   |   |\n",
    "| minute           |  __Integer Value__. The minute of data of the current row.                                                                                      |   |   |   |\n",
    "| dire_heroes      |  __Boolean Value__. Dire heroes that are currently alive in the match. A 1 signifies that the hero is currently alive for the dire team.        |   |   |   |\n",
    "| radiant_heroes   |   __Boolean Value__. Radiant heroes that are currently alive in the match. A 1 signifies that the hero is currently alive for the radiant team. |   |   |   |\n",
    "| player_last_hits |   __Integer Value__. Cumulative Sum of last hits the player has.                                                                                |   |   |   |\n",
    "| player_denies    |  __Integer Value__. Cumulative Sum of denies the player has.                                                                                    |   |   |   |\n",
    "| player_items     |  __Integer Value__. Cumulative Sum of the number of items the player has purchased.                                                             |   |   |   |\n",
    "| player_gold      |  __Integer Value__. Cumulative Sum of the amount of gold a player has.                                                                          |   |   |   |\n",
    "| player_kills     |  __Integer Value__. Number of kills the player has.                                                                                             |   |   |   |\n",
    "| vision           |  __Integer Value__. Cumulative Sum of wards and sentries placed throughout the match.                                                           |   |   |   |\n",
    "| __radiant_win__  |  __Boolean Value__. Target variable. 1 signifies the radiant team has won.   "
   ]
  },
  {
   "cell_type": "markdown",
   "metadata": {},
   "source": [
    "## Time to get functional."
   ]
  },
  {
   "cell_type": "code",
   "execution_count": null,
   "metadata": {},
   "outputs": [],
   "source": [
    "from collections import defaultdict, Counter\n",
    "from copy import deepcopy\n",
    "#But first, a word from our heroes and our items\n",
    "heroes = pd.read_csv('heroes.csv')\n",
    "hero_id = heroes['hero_id'].tolist()\n",
    "hero_name = heroes['name'].tolist()\n",
    "name2local = dict(zip(heroes['name'].tolist(),heroes['localized_name'].tolist()))\n",
    "hero_dict = dict(zip(hero_id,hero_name))\n",
    "\n",
    "items = pd.read_csv('items.csv',header=None,squeeze = True)[1]\n",
    "items_dict = {item:[] for item in items}\n",
    "objectives = pd.read_csv('objectives.csv')['0.1']\n",
    "\n",
    "\n",
    "def get_player_slot(json, player_index):\n",
    "    return json['players'][player_index]['player_slot']\n",
    "\n",
    "def get_hero_name(json,player_index):\n",
    "    return hero_dict[json['players'][player_index]['hero_id']]\n",
    "\n",
    "def get_win_status(json,player_index):\n",
    "    return json['players'][player_index]['radiant_win']\n",
    "\n",
    "def get_denies(json,player_index):\n",
    "    return json['players'][player_index]['dn_t']\n",
    "\n",
    "def get_last_hits(json, player_index):\n",
    "    return json['players'][player_index]['lh_t']\n",
    "\n",
    "def get_gold(json, player_index):\n",
    "    return json['players'][player_index]['gold_t']\n",
    "\n",
    "def get_xp(json, player_index):\n",
    "    return json['players'][player_index]['xp_t']\n",
    "\n",
    "def get_kill_nums(json,player_index):\n",
    "    '''\n",
    "    Given a json and player_index, return the number cumulative sum of kills a player receives in a match.\n",
    "    Each index of the list will correspond to a minute in the game.\n",
    "    '''\n",
    "    \n",
    "    times = json['players'][player_index]['times']\n",
    "    kills_nums = [0]*len(times)\n",
    "    for kill in json['players'][player_index]['kills_log']:\n",
    "        kills_nums[int(kill['time']/60)]+=1\n",
    "    return np.cumsum(kills_nums)\n",
    "\n",
    "def get_players_objectives(json,player_index):\n",
    "    '''\n",
    "    Given the json object and player_index to reference, return a list of lists.\n",
    "    Each index of the outer list will correspond to a minute.\n",
    "    The inner list at each of these indeces will contain lists of objectives that were taken at that minute.\n",
    "    '''\n",
    "    objectives_by_minute = defaultdict(lambda: [])\n",
    "    objectives_list = json['objectives']\n",
    "    time_list = json['players'][player_index]['times']\n",
    "    for time in time_list:\n",
    "        objectives_by_minute[int(time/60)] = []\n",
    "    for objective in objectives_list:\n",
    "        if ('player_slot' in objective)&('key' in objective):\n",
    "            if objective['player_slot']==get_player_slot(json,player_index):\n",
    "                objectives_by_minute[int(objective['time']/60)].append(objective['key'])\n",
    "    return list(objectives_by_minute.values())\n",
    "\n",
    "# Data leak point:\n",
    "# This function does not account for denying towers nor courier kills nor roshan. Only accounts for towers.\n",
    "\n",
    "def get_purchase_log(json,player_index):\n",
    "    '''\n",
    "    Given the json object and player_index to reference, return a list of lists.\n",
    "    Each index of the outer list will correspond to a minute.\n",
    "    The inner list at each of these indeces will contain a list of items purchased at that minute.\n",
    "    '''\n",
    "    purchase_by_minute = defaultdict(list)\n",
    "    purchases_list = json['players'][player_index]['purchase_log']\n",
    "    time_list = json['players'][player_index]['times']\n",
    "    for time in time_list:\n",
    "        purchase_by_minute[int(time/60)]=[]\n",
    "    for purchase in purchases_list:\n",
    "        if(purchase['time']<0):\n",
    "            purchase['time']=1\n",
    "        purchase_by_minute[int(purchase['time']/60)].append(purchase['key'])\n",
    "    return list(purchase_by_minute.values())\n",
    "\n",
    "def get_kill_log(json,player_index):\n",
    "    '''\n",
    "    Given the json object and player_index to reference, return a list of lists.\n",
    "    Each index of the outer list will correspond to a minute.\n",
    "    The inner list at each of these indeces will contain a list of kills at that minute.\n",
    "    '''\n",
    "    kills_by_minute = defaultdict(list)\n",
    "    kills_list = json['players'][player_index]['kills_log']\n",
    "    time_list = json['players'][player_index]['times']\n",
    "    for time in time_list:\n",
    "        kills_by_minute[int(time/60)]=[]\n",
    "    for kill in kills_list:\n",
    "        kills_by_minute[int(kill['time']/60)].append(kill['key'])\n",
    "    return list(kills_by_minute.values())\n",
    "\n",
    "def get_vision_log(json,player_index):\n",
    "    '''\n",
    "    Given the json object and player_index to reference, return a list of lists.\n",
    "    Each index of the outer list will correspond to a minute.\n",
    "    The inner list at each of these indeces will contain a list of dictionaries, which represent a ward and its placement\n",
    "    at that particular minute.\n",
    "    '''\n",
    "    vision_by_minute = defaultdict(lambda: [])\n",
    "    vision_list = json['players'][player_index]['obs_log']\n",
    "    vision_list.extend(json['players'][player_index]['sen_log'])\n",
    "    time_list = json['players'][player_index]['times']\n",
    "    for time in time_list:\n",
    "        vision_by_minute[int(time/60)]=[]\n",
    "    if vision_list==None:\n",
    "        return vision_by_minute\n",
    "    else:\n",
    "        for vision in vision_list:\n",
    "            viz = {'time':vision['time'], 'type': vision['type'],\n",
    "                   'x':vision['x'], 'y':vision['y'],'z':vision['z']}\n",
    "            if vision['time']<0:\n",
    "                vision['time']=0\n",
    "            vision_by_minute[int(vision['time']/60)].append(viz)  \n",
    "    return list(vision_by_minute.values())\n",
    "\n",
    "from functools import reduce\n",
    "\n",
    "########################\n",
    "#                      #\n",
    "# Frame Functions Here!#\n",
    "#                      #\n",
    "########################\n",
    "\n",
    "def purchase_to_frame(json,player_index): #HELPER FUNCTION FOR HEROES_TO_FRAME\n",
    "    '''\n",
    "    Given the json object and player index to reference, return a dataframe.\n",
    "    The header is the items, and the values are the cumulative sum of items bought at each minute.\n",
    "    '''\n",
    "    \n",
    "\n",
    "    purchases = get_purchase_log(json,player_index)\n",
    "    counter = Counter()\n",
    "    row_cumsums = []\n",
    "    for row in purchases:\n",
    "        counter.update(row)\n",
    "        row_cumsums.append(counter.copy())\n",
    "    all_keys = dict.fromkeys(items, 0)\n",
    "    for i, row in enumerate(row_cumsums):\n",
    "        row.update(all_keys)\n",
    "        row_cumsums[i] = row\n",
    "    df = pd.DataFrame(row_cumsums)\n",
    "    header = df.columns\n",
    "    new_head = [(str(player_index))+head for head in header]\n",
    "    df.columns = new_head\n",
    "    return df\n",
    "\n",
    "    #Data Loss: This function does not take into account when an item is sold or used for another item.\n",
    "    \n",
    "def kills_to_frame(json,player_index): #HELPER FUNCTION FOR HEROES_TO_FRAME!!\n",
    "    '''\n",
    "    Given a json object and player index, return that player's dataframe of kills.\n",
    "    A 1 in each row for a column signifies that hero was killed. 0 signifies no death occurred.\n",
    "    '''\n",
    "    kills = get_kill_log(json,player_index)\n",
    "    hero_counter = Counter()\n",
    "    row_cumsums = []\n",
    "    for row in kills:\n",
    "        hero_counter.update(row)\n",
    "        row_cumsums.append(hero_counter.copy())\n",
    "    hero_keys = dict.fromkeys(heroes['name'].tolist(),0) #input for fromkeys is distinct heroes\n",
    "    for i, row in enumerate(row_cumsums):\n",
    "        row.update(hero_keys)\n",
    "        row_cumsums[i] = row\n",
    "    df = pd.DataFrame(row_cumsums)\n",
    "    return df.diff().fillna(0).astype('int32')  \n",
    "\n",
    "def objectives_to_frame(json):\n",
    "    '''\n",
    "    Given a json object, return both teams' lists of objectives taken.\n",
    "    A 1 in each row for a column signifies that the objective has been taken. 0 Signifies it has not.\n",
    "    '''\n",
    "    list_of_df = []\n",
    "    for player in range(0,10):\n",
    "        objectives_list = get_players_objectives(json,player)\n",
    "        objective_counter = Counter()\n",
    "        row_cumsums = []\n",
    "        for row in objectives_list:\n",
    "            objective_counter.update(row)\n",
    "            row_cumsums.append(objective_counter.copy())\n",
    "        objective_keys = dict.fromkeys(objectives,0)\n",
    "        for index, row in enumerate(row_cumsums):\n",
    "            row.update(objective_keys)\n",
    "            row_cumsums[index] = row\n",
    "        list_of_df.append(pd.DataFrame(row_cumsums))\n",
    "    return reduce(lambda x, y: x.add(y,fill_value=0),list_of_df).fillna(0).astype('int32')\n",
    "\n",
    "def vision_to_frame(json):\n",
    "    '''\n",
    "    Given the json object, return a dataframe where the index is representative of the time a vision\n",
    "    object was placed. Columns: radiant_obs, radiant_sen, dire_obs, dire_sen.\n",
    "    '''\n",
    "    time = len(json['players'][0]['times']) # get the number of minutes a match lasts\n",
    "    radiant_obs = [0]*time\n",
    "    radiant_sen = [0]*time\n",
    "    dire_obs = [0]*time\n",
    "    dire_sen = [0]*time\n",
    "    \n",
    "    for player in range(10): # loop through all the players\n",
    "        current_vis_log = get_vision_log(json,player)\n",
    "        for index,minute in enumerate(current_vis_log): # loop through each minute of vis log\n",
    "            for item in minute: # loop through possible vision applied\n",
    "                if(item['time']<0):\n",
    "                    item['time']=0 # Assign any early wards to have a value of zero for ease\n",
    "                if((item['type']=='obs_log')&(player<5)):\n",
    "                    radiant_obs[index]+=1\n",
    "                elif((item['type']=='sen_log')&(player<5)):\n",
    "                    radiant_sen[index]+=1\n",
    "                elif((item['type']=='obs_log')&(player>=5)):\n",
    "                    dire_obs[index]+=1\n",
    "                elif((item['type']=='sen_log')&(player>=5)):\n",
    "                    dire_obs[index]+=1\n",
    "    vision ={'radiant_obs':radiant_obs, 'radiant_sen':radiant_sen,\n",
    "            'dire_obs':dire_obs, 'dire_sen':dire_sen}\n",
    "    return pd.DataFrame(vision)\n",
    "    \n",
    "    # Data Loss: This does not account for if vision is destroyed prematurely.\n",
    "    \n",
    "\n",
    "def players_to_frame(json):\n",
    "    '''\n",
    "    Given a json object and player_index, combine functions to create a dataframe object.\n",
    "    '''\n",
    "    frames = []\n",
    "    rows = len(json['players'][0]['times'])\n",
    "    keys = ['hero_name','last_hits','denies','gold','xp','kills_num']\n",
    "    for player_index in range(10):\n",
    "        indexed_keys = [str(player_index)+key for key in keys]\n",
    "        indexed_keys\n",
    "        data = {indexed_keys[1]: get_last_hits(json,player_index),\n",
    "               indexed_keys[2]: get_denies(json,player_index),\n",
    "               indexed_keys[3]: get_gold(json,player_index),\n",
    "               indexed_keys[4]: get_xp(json,player_index),\n",
    "               indexed_keys[5]: get_kill_nums(json,player_index)\n",
    "               }\n",
    "        purchases = purchase_to_frame(json,player_index)\n",
    "        frames.append(pd.DataFrame(data).join(purchases))\n",
    "    return pd.concat(frames,axis=1)  \n",
    "\n",
    "def heroes_to_frame(json):\n",
    "    '''\n",
    "    Given the json object, return a dataframe containing the heroes that were in the match.\n",
    "    A 1 in value signifies the hero was alive during that minute. A 0 signifies it was dead for some time\n",
    "    during that minute.\n",
    "    '''\n",
    "    \n",
    "    radiant_team = []\n",
    "    dire_team = []\n",
    "    for player in range(0,10):\n",
    "        if player<5:\n",
    "            radiant_team.append(get_hero_name(json,player))\n",
    "        else:\n",
    "            dire_team.append(get_hero_name(json,player))\n",
    "    hero_names = heroes['name'].tolist()\n",
    "    times = len(json['players'][0]['times'])\n",
    "    base_dict = dict(zip(heroes['name'].tolist(),[[0]*times]*len(hero_names)))\n",
    "    radiant_frame = pd.DataFrame(base_dict)\n",
    "    dire_frame = pd.DataFrame(base_dict)\n",
    "    \n",
    "    for radiant in radiant_team:\n",
    "        radiant_frame[radiant] = 1\n",
    "    for dire in dire_team:\n",
    "        dire_frame[dire] = 1\n",
    "    \n",
    "    radiant_deaths = kills_to_frame(json,5)\n",
    "    for player in range(6,10):\n",
    "        radiant_deaths.add(kills_to_frame(json,player))\n",
    "    dire_deaths = kills_to_frame(json,0)\n",
    "    for player in range(1,5):\n",
    "        dire_deaths.add(kills_to_frame(json,player))\n",
    "    \n",
    "    living_radiant = radiant_frame.subtract(radiant_deaths)\n",
    "    living_dire = dire_frame.subtract(dire_deaths)\n",
    "    \n",
    "    radiant_columns = living_radiant.columns\n",
    "    dire_columns = living_dire.columns\n",
    "    \n",
    "    new_rad_col = ['radiant_'+(name2local[hero]) for hero in hero_names]\n",
    "    new_dire_col = ['dire_'+(name2local[hero]) for hero in hero_names]\n",
    "    \n",
    "    living_radiant.columns = new_rad_col\n",
    "    living_dire.columns = new_dire_col\n",
    "    \n",
    "    return pd.concat([living_radiant,living_dire],axis=1, join='inner')\n",
    "\n",
    "#Think about using hierarchical columns for next time."
   ]
  },
  {
   "cell_type": "markdown",
   "metadata": {},
   "source": [
    "![alt text](https://media1.tenor.com/images/a71c94c3aa7ad66a5051f81f48d14dd2/tenor.gif?itemid=12813012)\n"
   ]
  },
  {
   "cell_type": "code",
   "execution_count": null,
   "metadata": {},
   "outputs": [],
   "source": [
    "def match_frame(json):\n",
    "    '''\n",
    "    Bringing it all together. For a json, return a dataframe with all purchase, hero living information, and objectives\n",
    "    taken.\n",
    "    '''\n",
    "    df = pd.concat([heroes_to_frame(json), objectives_to_frame(json),vision_to_frame(json),\n",
    "                      players_to_frame(json)],axis=1)\n",
    "    df['radiant_win'] = json['players'][0]['radiant_win']\n",
    "    df['match_id'] = json['match_id']\n",
    "    return df"
   ]
  },
  {
   "cell_type": "code",
   "execution_count": null,
   "metadata": {},
   "outputs": [],
   "source": [
    "# import csv\n",
    "# match_id = []\n",
    "# with open('match_id_more.csv','r') as file:\n",
    "#     file_reader = csv.reader(file)\n",
    "#     for row in file_reader:\n",
    "#         match_id.extend(row)"
   ]
  },
  {
   "cell_type": "code",
   "execution_count": null,
   "metadata": {},
   "outputs": [],
   "source": [
    "# matches_list = []\n",
    "# error_list = []\n",
    "# counter = 0\n",
    "# for match in match_id:\n",
    "#     response = requests.get('https://api.opendota.com/api/matches/'+str(match)+'/performances')\n",
    "#     try:\n",
    "#         matches_list.append(match_frame(response.json()))\n",
    "#         print(str(counter)+ \". Finished processing match \"+ str(match))\n",
    "#         counter+=1\n",
    "#     except:\n",
    "#         print(\"ERROR@ MATCH: \"+str(match))\n",
    "#         error_list.append(match)\n",
    "#         counter+=1\n",
    "# matches = pd.concat(matches_list)\n",
    "# matches.reset_index(inplace=True)\n",
    "# matches.rename(columns = {'index':'minute'},inplace=True)\n",
    "# matches.drop([x for x in range(0,10)],axis=1, inplace=True)\n",
    "# matches.drop([str(x) for x in range(1,10)], axis=1, inplace=True)\n",
    "# matches.drop(['npc_dota_goodguys_fort'], axis=1, inplace=True)\n",
    "# matches.drop(['npc_dota_badguys_fort'], axis=1, inplace=True)\n",
    "# matches['radiant_win']=matches['radiant_win'].astype(int)\n",
    "# column = matches.columns.tolist()\n",
    "# column = column[-1:] + column[:-1]\n",
    "# matches = matches[column]"
   ]
  },
  {
   "cell_type": "code",
   "execution_count": null,
   "metadata": {},
   "outputs": [],
   "source": [
    "# For cleaning matches"
   ]
  },
  {
   "cell_type": "code",
   "execution_count": null,
   "metadata": {},
   "outputs": [],
   "source": [
    "# errors = pd.DataFrame(error_list,columns=[\"errors\"])\n",
    "# errors.to_csv('error_list.csv',index=False)\n",
    "# matches.to_pickle('matches.pkl')"
   ]
  },
  {
   "cell_type": "markdown",
   "metadata": {},
   "source": [
    "# XGBoost approach\n",
    "https://xgboost.readthedocs.io/en/latest/python/python_intro.html"
   ]
  },
  {
   "cell_type": "code",
   "execution_count": 4,
   "metadata": {},
   "outputs": [],
   "source": [
    "import xgboost as xgb\n",
    "from xgboost import XGBClassifier\n",
    "import matplotlib.pyplot as plt\n",
    "\n",
    "from sklearn.model_selection import KFold\n",
    "from sklearn import metrics\n",
    "from sklearn.metrics import confusion_matrix\n",
    "from sklearn.model_selection import train_test_split\n",
    "from sklearn.metrics import roc_auc_score\n",
    "from sklearn.metrics import classification_report\n",
    "\n",
    "def plot_confusion_matrix(y_true, y_pred, classes,\n",
    "                          normalize=False,\n",
    "                          title=None,\n",
    "                          cmap=plt.cm.Blues):\n",
    "    \"\"\"\n",
    "    This function prints and plots the confusion matrix.\n",
    "    Normalization can be applied by setting `normalize=True`.\n",
    "    \"\"\"\n",
    "    if not title:\n",
    "        if normalize:\n",
    "            title = 'Normalized confusion matrix'\n",
    "        else:\n",
    "            title = 'Confusion matrix, without normalization'\n",
    "\n",
    "    # Compute confusion matrix\n",
    "    cm = confusion_matrix(y_true, y_pred)\n",
    "    # Only use the labels that appear in the data\n",
    "#     classes = classes[unique_labels(y_true, y_pred)]\n",
    "    if normalize:\n",
    "        cm = cm.astype('float') / cm.sum(axis=1)[:, np.newaxis]\n",
    "        print(\"Normalized confusion matrix\")\n",
    "    else:\n",
    "        print('Confusion matrix, without normalization')\n",
    "\n",
    "    print(cm)\n",
    "\n",
    "    fig, ax = plt.subplots()\n",
    "    im = ax.imshow(cm, interpolation='nearest', cmap=cmap)\n",
    "    ax.figure.colorbar(im, ax=ax)\n",
    "    # We want to show all ticks...\n",
    "    ax.set(xticks=np.arange(cm.shape[1]),\n",
    "           yticks=np.arange(cm.shape[0]),\n",
    "           # ... and label them with the respective list entries\n",
    "           xticklabels=classes, yticklabels=classes,\n",
    "           title=title,\n",
    "           ylabel='True label',\n",
    "           xlabel='Predicted label')\n",
    "\n",
    "    # Rotate the tick labels and set their alignment.\n",
    "    plt.setp(ax.get_xticklabels(), rotation=45, ha=\"right\",\n",
    "             rotation_mode=\"anchor\")\n",
    "\n",
    "    # Loop over data dimensions and create text annotations.\n",
    "    fmt = '.2f' if normalize else 'd'\n",
    "    thresh = cm.max() / 2.\n",
    "    for i in range(cm.shape[0]):\n",
    "        for j in range(cm.shape[1]):\n",
    "            ax.text(j, i, format(cm[i, j], fmt),\n",
    "                    ha=\"center\", va=\"center\",\n",
    "                    color=\"white\" if cm[i, j] > thresh else \"black\")\n",
    "    fig.tight_layout()\n",
    "    return ax\n"
   ]
  },
  {
   "cell_type": "code",
   "execution_count": 5,
   "metadata": {
    "scrolled": true
   },
   "outputs": [
    {
     "name": "stdout",
     "output_type": "stream",
     "text": [
      "Round 0\n",
      "             precision    recall  f1-score   support\n",
      "\n",
      "          0       0.83      0.76      0.79      7818\n",
      "          1       0.78      0.85      0.82      7955\n",
      "\n",
      "avg / total       0.81      0.81      0.81     15773\n",
      "\n",
      "Normalized confusion matrix\n",
      "[[0.75850601 0.24149399]\n",
      " [0.14758014 0.85241986]]\n",
      "Round 1\n",
      "             precision    recall  f1-score   support\n",
      "\n",
      "          0       0.82      0.75      0.78      7774\n",
      "          1       0.77      0.84      0.81      7999\n",
      "\n",
      "avg / total       0.80      0.79      0.79     15773\n",
      "\n",
      "Normalized confusion matrix\n",
      "[[0.74556213 0.25443787]\n",
      " [0.15901988 0.84098012]]\n",
      "Round 2\n",
      "             precision    recall  f1-score   support\n",
      "\n",
      "          0       0.83      0.75      0.79      7808\n",
      "          1       0.78      0.85      0.81      7965\n",
      "\n",
      "avg / total       0.80      0.80      0.80     15773\n",
      "\n",
      "Normalized confusion matrix\n",
      "[[0.75076844 0.24923156]\n",
      " [0.15040804 0.84959196]]\n",
      "Round 3\n",
      "             precision    recall  f1-score   support\n",
      "\n",
      "          0       0.83      0.75      0.79      7868\n",
      "          1       0.78      0.85      0.81      7905\n",
      "\n",
      "avg / total       0.80      0.80      0.80     15773\n",
      "\n",
      "Normalized confusion matrix\n",
      "[[0.75330452 0.24669548]\n",
      " [0.1540797  0.8459203 ]]\n",
      "Round 4\n",
      "             precision    recall  f1-score   support\n",
      "\n",
      "          0       0.83      0.74      0.78      7894\n",
      "          1       0.77      0.85      0.80      7879\n",
      "\n",
      "avg / total       0.80      0.79      0.79     15773\n",
      "\n",
      "Normalized confusion matrix\n",
      "[[0.74195592 0.25804408]\n",
      " [0.15484199 0.84515801]]\n",
      "Round 5\n",
      "             precision    recall  f1-score   support\n",
      "\n",
      "          0       0.83      0.76      0.80      7794\n",
      "          1       0.78      0.85      0.82      7979\n",
      "\n",
      "avg / total       0.81      0.81      0.81     15773\n",
      "\n",
      "Normalized confusion matrix\n",
      "[[0.76084167 0.23915833]\n",
      " [0.14788821 0.85211179]]\n",
      "Round 6\n",
      "             precision    recall  f1-score   support\n",
      "\n",
      "          0       0.82      0.75      0.78      7653\n",
      "          1       0.78      0.84      0.81      8120\n",
      "\n",
      "avg / total       0.80      0.80      0.80     15773\n",
      "\n",
      "Normalized confusion matrix\n",
      "[[0.75003267 0.24996733]\n",
      " [0.15504926 0.84495074]]\n",
      "Round 7\n",
      "             precision    recall  f1-score   support\n",
      "\n",
      "          0       0.83      0.76      0.79      7758\n",
      "          1       0.78      0.85      0.82      8015\n",
      "\n",
      "avg / total       0.81      0.80      0.80     15773\n",
      "\n",
      "Normalized confusion matrix\n",
      "[[0.75534932 0.24465068]\n",
      " [0.14897068 0.85102932]]\n",
      "Round 8\n",
      "             precision    recall  f1-score   support\n",
      "\n",
      "          0       0.83      0.75      0.79      7773\n",
      "          1       0.78      0.85      0.81      7999\n",
      "\n",
      "avg / total       0.80      0.80      0.80     15772\n",
      "\n",
      "Normalized confusion matrix\n",
      "[[0.75311977 0.24688023]\n",
      " [0.15264408 0.84735592]]\n",
      "Round 9\n",
      "             precision    recall  f1-score   support\n",
      "\n",
      "          0       0.82      0.75      0.78      7614\n",
      "          1       0.78      0.84      0.81      8158\n",
      "\n",
      "avg / total       0.80      0.80      0.80     15772\n",
      "\n",
      "Normalized confusion matrix\n",
      "[[0.75282375 0.24717625]\n",
      " [0.15898505 0.84101495]]\n"
     ]
    },
    {
     "data": {
      "image/png": "[encoded data removed]",
      "text/plain": [
       "<Figure size 432x288 with 2 Axes>"
      ]
     },
     "metadata": {},
     "output_type": "display_data"
    },
    {
     "data": {
      "image/png": "[encoded data removed]",
      "text/plain": [
       "<Figure size 432x288 with 2 Axes>"
      ]
     },
     "metadata": {},
     "output_type": "display_data"
    },
    {
     "data": {
      "image/png": "[encoded data removed]",
      "text/plain": [
       "<Figure size 432x288 with 2 Axes>"
      ]
     },
     "metadata": {},
     "output_type": "display_data"
    },
    {
     "data": {
      "image/png": "[encoded data removed]",
      "text/plain": [
       "<Figure size 432x288 with 2 Axes>"
      ]
     },
     "metadata": {},
     "output_type": "display_data"
    },
    {
     "data": {
      "image/png": "[encoded data removed]",
      "text/plain": [
       "<Figure size 432x288 with 2 Axes>"
      ]
     },
     "metadata": {},
     "output_type": "display_data"
    },
    {
     "data": {
      "image/png": "[encoded data removed]",
      "text/plain": [
       "<Figure size 432x288 with 2 Axes>"
      ]
     },
     "metadata": {},
     "output_type": "display_data"
    },
    {
     "data": {
      "image/png": "[encoded data removed]",
      "text/plain": [
       "<Figure size 432x288 with 2 Axes>"
      ]
     },
     "metadata": {},
     "output_type": "display_data"
    },
    {
     "data": {
      "image/png": "[encoded data removed]",
      "text/plain": [
       "<Figure size 432x288 with 2 Axes>"
      ]
     },
     "metadata": {},
     "output_type": "display_data"
    },
    {
     "data": {
      "image/png": "[encoded data removed]",
      "text/plain": [
       "<Figure size 432x288 with 2 Axes>"
      ]
     },
     "metadata": {},
     "output_type": "display_data"
    },
    {
     "data": {
      "image/png": "[encoded data removed]",
      "text/plain": [
       "<Figure size 432x288 with 2 Axes>"
      ]
     },
     "metadata": {},
     "output_type": "display_data"
    }
   ],
   "source": [
    "data = np.array(matches)\n",
    "kfold = KFold(10, shuffle=True)\n",
    "\n",
    "run = 0\n",
    "for train, test in kfold.split(data):\n",
    "    print('Round '+str(run))\n",
    "    X_train = data[train,:-1]\n",
    "    X_test = data[test,:-1]\n",
    "    y_train = data[train,-1]\n",
    "    y_test = data[test,-1]\n",
    "    param ={'eta':.1, 'max_depth' : 10, 'min_child_weight' : 10,\n",
    "           'n_jobs':-1, 'predictor': 'gpu_predictor'}\n",
    "    dtrain = xgb.DMatrix(X_train, label=y_train)\n",
    "    dtest = xgb.DMatrix(X_test)\n",
    "    model = xgb.train(param,dtrain,10)\n",
    "    \n",
    "    y_prediction = model.predict(dtest)\n",
    "    y_prediction_ints = [0 if x < 0.5 else 1 for x in y_prediction]\n",
    "    \n",
    "    print(classification_report(y_test,y_prediction_ints))\n",
    "    plot_confusion_matrix(y_test, y_prediction_ints, [True,False],normalize = True,title = \"XGBoost Classification \"+str(run))\n",
    "    run+=1\n"
   ]
  },
  {
   "cell_type": "markdown",
   "metadata": {},
   "source": [
    "## Highest Accuracy was 80.5%\n",
    "Let's look at a different method now. Let's try \n",
    "# __random forest__."
   ]
  },
  {
   "cell_type": "code",
   "execution_count": null,
   "metadata": {
    "scrolled": true
   },
   "outputs": [],
   "source": [
    "from sklearn.ensemble import RandomForestClassifier as rfc\n",
    "\n",
    "\n",
    "X = data[:,:-1]\n",
    "y = data[:,-1]\n",
    "\n",
    "\n",
    "\n",
    "X_train, X_test, y_train,y_test = train_test_split(X,y,test_size=.2)\n",
    "X_train, X_val, y_train, y_val = train_test_split(X_train,y_train, test_size =.2)\n",
    "\n",
    "classifier = rfc(n_estimators =10, max_depth = 10, min_samples_split = 2, min_samples_leaf =1,\n",
    "                n_jobs=-1)\n",
    "classifier.fit(X_train,y_train)\n",
    "y_prediction = classifier.predict(X_val)\n",
    "\n",
    "print(classification_report(y_val,y_prediction))\n",
    "plot_confusion_matrix(y_val, y_prediction, [True,False],normalize = True,title = \"Random Forest Classification \")\n"
   ]
  },
  {
   "cell_type": "code",
   "execution_count": null,
   "metadata": {},
   "outputs": [],
   "source": [
    "columns = matches.columns\n",
    "importance = classifier.feature_importances_\n",
    "\n",
    "feature_table = pd.DataFrame(importance,index=columns[:-1],columns=['value'])\n",
    "feature_table.sort_values(['value'],ascending=False).head()"
   ]
  },
  {
   "cell_type": "code",
   "execution_count": null,
   "metadata": {},
   "outputs": [],
   "source": [
    "y_preds = classifier.predict_proba(X_val)\n",
    "preds = y_preds[:,1]\n",
    "fpr, tpr, _ = metrics.roc_curve(y_val,preds)\n",
    "auc_score = metrics.auc(fpr,tpr)\n",
    "plt.clf()\n",
    "plt.title('ROC/AUC RFC')\n",
    "plt.plot(fpr,tpr, label='AUC = {:.2f}'.format(auc_score))\n",
    "plt.plot([0,1],[0,1],'r--')\n",
    "\n",
    "plt.xlim([-0.1,1.1])\n",
    "plt.ylim([-0.1,1.1])\n",
    "plt.ylabel('True Positive Rate')\n",
    "plt.xlabel('False Positive Rate')\n",
    "\n",
    "plt.legend(loc='lower right')\n",
    "plt.show()"
   ]
  },
  {
   "cell_type": "markdown",
   "metadata": {},
   "source": [
    "## Well. Even with the error,\n",
    "### It looks like random forest is no match for xgboost in this scenario.\n",
    "Let's take a look back at xgboost and see if we can make better hyperparamters."
   ]
  },
  {
   "cell_type": "code",
   "execution_count": null,
   "metadata": {},
   "outputs": [],
   "source": [
    "kfold = KFold(5, shuffle=True)\n",
    "\n",
    "run = 0\n",
    "for train, test in kfold.split(data):\n",
    "    print('Round '+str(run))\n",
    "    X_train = data[train,:-1]\n",
    "    X_test = data[test,:-1]\n",
    "    y_train = data[train,-1]\n",
    "    y_test = data[test,-1]\n",
    "    param ={'eta':.1, 'max_depth' : 18, 'min_child_weight' : 60,\n",
    "           'n_jobs':-1, 'predictor': 'gpu_predictor'}\n",
    "    dtrain = xgb.DMatrix(X_train, label=y_train)\n",
    "    dtest = xgb.DMatrix(X_test)\n",
    "    model = xgb.train(param,dtrain,10)\n",
    "    \n",
    "    y_prediction = model.predict(dtest)\n",
    "    y_prediction_ints = [0 if x < 0.5 else 1 for x in y_prediction]\n",
    "    \n",
    "    print(classification_report(y_test,y_prediction_ints))\n",
    "    plot_confusion_matrix(y_test, y_prediction_ints, [True,False],normalize = True,title = \"XGBoost Classification \"+str(run))\n",
    "    run+=1\n"
   ]
  },
  {
   "cell_type": "code",
   "execution_count": null,
   "metadata": {},
   "outputs": [],
   "source": [
    "matches_0 = matches[matches['minute']==0]"
   ]
  },
  {
   "cell_type": "code",
   "execution_count": null,
   "metadata": {
    "scrolled": true
   },
   "outputs": [],
   "source": [
    "kfold = KFold(10, shuffle=True)\n",
    "\n",
    "data = np.array(matches)\n",
    "\n",
    "run = 0\n",
    "for train, test in kfold.split(data):\n",
    "    print('Round '+str(run))\n",
    "    X_train = data[train,:-1]\n",
    "    X_test = data[test,:-1]\n",
    "    y_train = data[train,-1]\n",
    "    y_test = data[test,-1]\n",
    "    param ={'eta':.1, 'max_depth' : 18, 'min_child_weight' : 10,\n",
    "           'n_jobs':-1, 'predictor': 'gpu_predictor'}\n",
    "    dtrain = xgb.DMatrix(X_train, label=y_train)\n",
    "    dtest = xgb.DMatrix(X_test)\n",
    "    model = xgb.train(param,dtrain,10)\n",
    "    \n",
    "    y_prediction = model.predict(dtest)\n",
    "    y_prediction_ints = [0 if x < 0.5 else 1 for x in y_prediction]\n",
    "    \n",
    "    print(classification_report(y_test,y_prediction_ints))\n",
    "    plot_confusion_matrix(y_test, y_prediction_ints, [True,False],normalize = True,title = \"XGBoost Classification \"+str(run))\n",
    "    run+=1\n"
   ]
  },
  {
   "cell_type": "code",
   "execution_count": null,
   "metadata": {},
   "outputs": [],
   "source": [
    "feature_importance = model.get_fscore()\n",
    "keys = feature_importance.keys()\n",
    "vals = feature_importance.values()\n",
    "\n",
    "feature_frame = pd.DataFrame(vals, index = keys, columns = ['values'])\n",
    "feature_frame.sort_values(['values'],ascending=False).iloc[37:40,:]"
   ]
  },
  {
   "cell_type": "code",
   "execution_count": null,
   "metadata": {},
   "outputs": [],
   "source": [
    "y_preds = model.predict(dtest)\n",
    "preds = y_preds\n",
    "fpr, tpr, _ = metrics.roc_curve(y_test,preds)\n",
    "auc_score = metrics.auc(fpr,tpr)\n",
    "plt.clf()\n",
    "plt.title('ROC/AUC XGB')\n",
    "plt.plot(fpr,tpr, label='AUC = {:.2f}'.format(auc_score))\n",
    "plt.plot([0,1],[0,1],'r--')\n",
    "\n",
    "plt.xlim([-0.1,1.1])\n",
    "plt.ylim([-0.1,1.1])\n",
    "plt.ylabel('True Positive Rate')\n",
    "plt.xlabel('False Positive Rate')\n",
    "\n",
    "plt.legend(loc='lower right')\n",
    "plt.show()"
   ]
  },
  {
   "cell_type": "markdown",
   "metadata": {},
   "source": [
    "Let's try and divide up the matches into three time segments. Early, mid, and late game.\n",
    "- Early game is usually accepted as 0-15 minutes\n",
    "- Mid game is reserved from 15 to 30 minutes\n",
    "- Late game is anything after that.\n"
   ]
  },
  {
   "cell_type": "code",
   "execution_count": 9,
   "metadata": {},
   "outputs": [],
   "source": [
    "# X = matches.iloc[:,:-1]\n",
    "# y = matches.iloc[:,-1]\n",
    "\n",
    "# X_train, X_test, y_train, y_test = train_test_split(X,y,test_size=.2)\n",
    "\n",
    "# param ={'eta':.1, 'max_depth' : 18, 'min_child_weight' : 10,\n",
    "#        'n_jobs':-1, 'predictor': 'gpu_predictor'}\n",
    "\n",
    "# dtrain = xgb.DMatrix(X_train.values, label=y_train.values)\n",
    "# dtest = xgb.DMatrix(X_test.values)\n",
    "# model = xgb.train(param,dtrain,10)\n",
    "\n",
    "# y_prediction = model.predict(dtest)\n",
    "# y_prediction_ints = [0 if x < 0.5 else 1 for x in y_prediction]\n",
    "\n",
    "# print(classification_report(y_test,y_prediction_ints))\n",
    "# plot_confusion_matrix(y_test, y_prediction_ints, [True,False],normalize = True,title = \"XGBoost Classification \")"
   ]
  },
  {
   "cell_type": "markdown",
   "metadata": {},
   "source": [
    "# Prediction from the 20 minute mark only:\n",
    "Model works okay with the whole dataset, let's see how well it does with only seeing up to 20 minutes."
   ]
  },
  {
   "cell_type": "code",
   "execution_count": 7,
   "metadata": {
    "scrolled": true
   },
   "outputs": [
    {
     "name": "stderr",
     "output_type": "stream",
     "text": [
      "C:\\Users\\Animaznman\\Anaconda3\\lib\\site-packages\\pandas\\core\\frame.py:4097: SettingWithCopyWarning: \n",
      "A value is trying to be set on a copy of a slice from a DataFrame\n",
      "\n",
      "See the caveats in the documentation: http://pandas.pydata.org/pandas-docs/stable/user_guide/indexing.html#returning-a-view-versus-a-copy\n",
      "  errors=errors,\n"
     ]
    }
   ],
   "source": [
    "matches_20_id = matches['match_id'].loc[matches['minute']==20]\n",
    "matches_20 = matches.loc[matches['match_id'].isin( matches_20_id)]\n",
    "matches_20.drop('match_id',axis=1, inplace=True)\n",
    "matches_20 = matches_20[matches_20['minute']<=20].copy()"
   ]
  },
  {
   "cell_type": "code",
   "execution_count": 8,
   "metadata": {},
   "outputs": [
    {
     "name": "stdout",
     "output_type": "stream",
     "text": [
      "Round 0\n",
      "             precision    recall  f1-score   support\n",
      "\n",
      "          0       0.94      0.91      0.93      4255\n",
      "          1       0.92      0.94      0.93      4479\n",
      "\n",
      "avg / total       0.93      0.93      0.93      8734\n",
      "\n",
      "Normalized confusion matrix\n",
      "[[0.91398355 0.08601645]\n",
      " [0.05581603 0.94418397]]\n",
      "Round 1\n",
      "             precision    recall  f1-score   support\n",
      "\n",
      "          0       0.95      0.91      0.93      4264\n",
      "          1       0.92      0.96      0.94      4470\n",
      "\n",
      "avg / total       0.93      0.93      0.93      8734\n",
      "\n",
      "Normalized confusion matrix\n",
      "[[0.90970919 0.09029081]\n",
      " [0.04272931 0.95727069]]\n",
      "Round 2\n",
      "             precision    recall  f1-score   support\n",
      "\n",
      "          0       0.95      0.93      0.94      4214\n",
      "          1       0.94      0.95      0.94      4520\n",
      "\n",
      "avg / total       0.94      0.94      0.94      8734\n",
      "\n",
      "Normalized confusion matrix\n",
      "[[0.92952065 0.07047935]\n",
      " [0.04955752 0.95044248]]\n",
      "Round 3\n",
      "             precision    recall  f1-score   support\n",
      "\n",
      "          0       0.95      0.93      0.94      4232\n",
      "          1       0.94      0.95      0.94      4502\n",
      "\n",
      "avg / total       0.94      0.94      0.94      8734\n",
      "\n",
      "Normalized confusion matrix\n",
      "[[0.93123819 0.06876181]\n",
      " [0.05086628 0.94913372]]\n",
      "Round 4\n",
      "             precision    recall  f1-score   support\n",
      "\n",
      "          0       0.94      0.94      0.94      4286\n",
      "          1       0.94      0.94      0.94      4448\n",
      "\n",
      "avg / total       0.94      0.94      0.94      8734\n",
      "\n",
      "Normalized confusion matrix\n",
      "[[0.93513766 0.06486234]\n",
      " [0.05598022 0.94401978]]\n",
      "Round 5\n",
      "             precision    recall  f1-score   support\n",
      "\n",
      "          0       0.95      0.93      0.94      4193\n",
      "          1       0.94      0.95      0.95      4541\n",
      "\n",
      "avg / total       0.94      0.94      0.94      8734\n",
      "\n",
      "Normalized confusion matrix\n",
      "[[0.93489149 0.06510851]\n",
      " [0.04580489 0.95419511]]\n",
      "Round 6\n",
      "             precision    recall  f1-score   support\n",
      "\n",
      "          0       0.94      0.92      0.93      4214\n",
      "          1       0.93      0.95      0.94      4520\n",
      "\n",
      "avg / total       0.94      0.94      0.94      8734\n",
      "\n",
      "Normalized confusion matrix\n",
      "[[0.92335074 0.07664926]\n",
      " [0.05199115 0.94800885]]\n",
      "Round 7\n",
      "             precision    recall  f1-score   support\n",
      "\n",
      "          0       0.95      0.92      0.93      4313\n",
      "          1       0.93      0.95      0.94      4421\n",
      "\n",
      "avg / total       0.94      0.93      0.93      8734\n",
      "\n",
      "Normalized confusion matrix\n",
      "[[0.92163227 0.07836773]\n",
      " [0.05202443 0.94797557]]\n",
      "Round 8\n",
      "             precision    recall  f1-score   support\n",
      "\n",
      "          0       0.94      0.92      0.93      4275\n",
      "          1       0.93      0.94      0.93      4459\n",
      "\n",
      "avg / total       0.93      0.93      0.93      8734\n",
      "\n",
      "Normalized confusion matrix\n",
      "[[0.92233918 0.07766082]\n",
      " [0.06032743 0.93967257]]\n",
      "Round 9\n",
      "             precision    recall  f1-score   support\n",
      "\n",
      "          0       0.95      0.93      0.94      4216\n",
      "          1       0.93      0.95      0.94      4517\n",
      "\n",
      "avg / total       0.94      0.94      0.94      8733\n",
      "\n",
      "Normalized confusion matrix\n",
      "[[0.92575901 0.07424099]\n",
      " [0.04936905 0.95063095]]\n"
     ]
    },
    {
     "data": {
      "image/png": "[encoded data removed]",
      "text/plain": [
       "<Figure size 432x288 with 2 Axes>"
      ]
     },
     "metadata": {},
     "output_type": "display_data"
    },
    {
     "data": {
      "image/png": "[encoded data removed]",
      "text/plain": [
       "<Figure size 432x288 with 2 Axes>"
      ]
     },
     "metadata": {},
     "output_type": "display_data"
    },
    {
     "data": {
      "image/png": "[encoded data removed]",
      "text/plain": [
       "<Figure size 432x288 with 2 Axes>"
      ]
     },
     "metadata": {},
     "output_type": "display_data"
    },
    {
     "data": {
      "image/png": "[encoded data removed]",
      "text/plain": [
       "<Figure size 432x288 with 2 Axes>"
      ]
     },
     "metadata": {},
     "output_type": "display_data"
    },
    {
     "data": {
      "image/png": "[encoded data removed]",
      "text/plain": [
       "<Figure size 432x288 with 2 Axes>"
      ]
     },
     "metadata": {},
     "output_type": "display_data"
    },
    {
     "data": {
      "image/png": "[encoded data removed]",
      "text/plain": [
       "<Figure size 432x288 with 2 Axes>"
      ]
     },
     "metadata": {},
     "output_type": "display_data"
    },
    {
     "data": {
      "image/png": "[encoded data removed]",
      "text/plain": [
       "<Figure size 432x288 with 2 Axes>"
      ]
     },
     "metadata": {},
     "output_type": "display_data"
    },
    {
     "data": {
      "image/png": "[encoded data removed]",
      "text/plain": [
       "<Figure size 432x288 with 2 Axes>"
      ]
     },
     "metadata": {},
     "output_type": "display_data"
    },
    {
     "data": {
      "image/png": "[encoded data removed]",
      "text/plain": [
       "<Figure size 432x288 with 2 Axes>"
      ]
     },
     "metadata": {},
     "output_type": "display_data"
    },
    {
     "data": {
      "image/png": "[encoded data removed]",
      "text/plain": [
       "<Figure size 432x288 with 2 Axes>"
      ]
     },
     "metadata": {},
     "output_type": "display_data"
    }
   ],
   "source": [
    "kfold = KFold(10, shuffle=True)\n",
    "\n",
    "data = np.array(matches_20)\n",
    "\n",
    "run = 0\n",
    "for train, test in kfold.split(data):\n",
    "    print('Round '+str(run))\n",
    "    X_train = data[train,:-1]\n",
    "    X_test = data[test,:-1]\n",
    "    y_train = data[train,-1]\n",
    "    y_test = data[test,-1]\n",
    "    param ={'eta':.1, 'max_depth' : 18, 'min_child_weight' : 10,\n",
    "           'n_jobs':-1, 'predictor': 'gpu_predictor'}\n",
    "    dtrain = xgb.DMatrix(X_train, label=y_train)\n",
    "    dtest = xgb.DMatrix(X_test)\n",
    "    model = xgb.train(param,dtrain,10)\n",
    "    \n",
    "    y_prediction = model.predict(dtest)\n",
    "    y_prediction_ints = [0 if x < 0.5 else 1 for x in y_prediction]\n",
    "    \n",
    "    print(classification_report(y_test,y_prediction_ints))\n",
    "    plot_confusion_matrix(y_test, y_prediction_ints, [True,False],normalize = True,title = \"XGBoost Classification \"+str(run))\n",
    "    run+=1\n"
   ]
  },
  {
   "cell_type": "code",
   "execution_count": 10,
   "metadata": {},
   "outputs": [
    {
     "name": "stdout",
     "output_type": "stream",
     "text": [
      "             precision    recall  f1-score   support\n",
      "\n",
      "          0       0.94      0.92      0.93      8510\n",
      "          1       0.93      0.94      0.93      8958\n",
      "\n",
      "avg / total       0.93      0.93      0.93     17468\n",
      "\n",
      "Normalized confusion matrix\n",
      "[[0.92338425 0.07661575]\n",
      " [0.06083947 0.93916053]]\n"
     ]
    },
    {
     "data": {
      "text/plain": [
       "<matplotlib.axes._subplots.AxesSubplot at 0x201de904c88>"
      ]
     },
     "execution_count": 10,
     "metadata": {},
     "output_type": "execute_result"
    },
    {
     "data": {
      "image/png": "[encoded data removed]",
      "text/plain": [
       "<Figure size 432x288 with 2 Axes>"
      ]
     },
     "metadata": {},
     "output_type": "display_data"
    }
   ],
   "source": [
    "X = matches_20.iloc[:,:-1]\n",
    "y = matches_20.iloc[:,-1]\n",
    "\n",
    "X_train, X_test, y_train, y_test = train_test_split(X,y,test_size=.2)\n",
    "\n",
    "param ={'eta':.1, 'max_depth' : 18, 'min_child_weight' : 10,\n",
    "       'n_jobs':-1, 'predictor': 'gpu_predictor'}\n",
    "\n",
    "dtrain = xgb.DMatrix(X_train.values, label=y_train.values)\n",
    "dtest = xgb.DMatrix(X_test.values)\n",
    "model = xgb.train(param,dtrain,10)\n",
    "\n",
    "y_prediction = model.predict(dtest)\n",
    "y_prediction_ints = [0 if x < 0.5 else 1 for x in y_prediction]\n",
    "\n",
    "print(classification_report(y_test,y_prediction_ints))\n",
    "plot_confusion_matrix(y_test, y_prediction_ints, [True,False],normalize = True,title = \"XGBoost Classification \")"
   ]
  },
  {
   "cell_type": "markdown",
   "metadata": {},
   "source": [
    "# Around 93% accuracy!\n",
    "\n",
    "Now for some comparison with Dota Plus, I'll append the probabilities to the dataframe and see what the outcome and % wins are for both my model and dota plus."
   ]
  },
  {
   "cell_type": "code",
   "execution_count": 29,
   "metadata": {},
   "outputs": [
    {
     "data": {
      "text/plain": [
       "[4951817046,\n",
       " 4867766066,\n",
       " 4888732113,\n",
       " 4931419285,\n",
       " 5012656136,\n",
       " 4996253086,\n",
       " 4982620031,\n",
       " 5011319564,\n",
       " 4792472025,\n",
       " 4915802544,\n",
       " 4957086148,\n",
       " 4810351350,\n",
       " 4910114716,\n",
       " 5003653679,\n",
       " 4875571289,\n",
       " 4853148298,\n",
       " 4859002568,\n",
       " 4835349235,\n",
       " 4956394830,\n",
       " 4959632935]"
      ]
     },
     "execution_count": 29,
     "metadata": {},
     "output_type": "execute_result"
    }
   ],
   "source": [
    "top_20 = X_test.head(20).index.tolist()\n",
    "match_20_ids = matches['match_id'].iloc[top_20]\n",
    "match_20_ids.tolist()"
   ]
  },
  {
   "cell_type": "code",
   "execution_count": 28,
   "metadata": {},
   "outputs": [
    {
     "data": {
      "text/plain": [
       "[0.6592558026313782,\n",
       " 0.5764157176017761,\n",
       " 0.5141096711158752,\n",
       " 0.44689667224884033,\n",
       " 0.30625563859939575,\n",
       " 0.5621721148490906,\n",
       " 0.46809759736061096,\n",
       " 0.46229708194732666,\n",
       " 0.6044390201568604,\n",
       " 0.35111334919929504,\n",
       " 0.3750510513782501,\n",
       " 0.22402778267860413,\n",
       " 0.47943270206451416,\n",
       " 0.5774372220039368,\n",
       " 0.16841751337051392,\n",
       " 0.26780131459236145,\n",
       " 0.7050307989120483,\n",
       " 0.32459938526153564,\n",
       " 0.3010585606098175,\n",
       " 0.7903012037277222]"
      ]
     },
     "execution_count": 28,
     "metadata": {},
     "output_type": "execute_result"
    }
   ],
   "source": [
    "y_prediction[:20].tolist()"
   ]
  },
  {
   "cell_type": "code",
   "execution_count": 35,
   "metadata": {},
   "outputs": [],
   "source": [
    "predicted = X_test.copy()\n",
    "predicted['prediction'] = y_prediction"
   ]
  },
  {
   "cell_type": "code",
   "execution_count": 42,
   "metadata": {},
   "outputs": [],
   "source": [
    "matches20 = predicted['prediction'][predicted['minute']==20].head(20).index.tolist()"
   ]
  },
  {
   "cell_type": "code",
   "execution_count": 49,
   "metadata": {},
   "outputs": [
    {
     "data": {
      "text/plain": [
       "match_id          4799211995\n",
       "minute                    20\n",
       "dire_Anti-Mage             0\n",
       "dire_Axe                   0\n",
       "dire_Bane                  0\n",
       "                     ...    \n",
       "9platemail                 0\n",
       "9pipe                      0\n",
       "9dagon_2                   0\n",
       "9boots                     1\n",
       "radiant_win                0\n",
       "Name: 10003, Length: 1955, dtype: int64"
      ]
     },
     "execution_count": 49,
     "metadata": {},
     "output_type": "execute_result"
    }
   ],
   "source": [
    "matches.iloc[10003]"
   ]
  },
  {
   "cell_type": "code",
   "execution_count": 51,
   "metadata": {},
   "outputs": [
    {
     "data": {
      "text/plain": [
       "[1, 0, 1, 0, 1, 1, 1, 0, 1, 0, 1, 0, 1, 1, 0, 0, 0, 0, 1, 0]"
      ]
     },
     "execution_count": 51,
     "metadata": {},
     "output_type": "execute_result"
    }
   ],
   "source": [
    "# predicted['radiant_win'] = y_test\n",
    "predicted['radiant_win'][predicted['minute']==20].head(20).tolist()"
   ]
  },
  {
   "cell_type": "code",
   "execution_count": null,
   "metadata": {},
   "outputs": [],
   "source": []
  }
 ],
 "metadata": {
  "kernelspec": {
   "display_name": "Python 3",
   "language": "python",
   "name": "python3"
  },
  "language_info": {
   "codemirror_mode": {
    "name": "ipython",
    "version": 3
   },
   "file_extension": ".py",
   "mimetype": "text/x-python",
   "name": "python",
   "nbconvert_exporter": "python",
   "pygments_lexer": "ipython3",
   "version": "3.6.5"
  }
 },
 "nbformat": 4,
 "nbformat_minor": 2
}
